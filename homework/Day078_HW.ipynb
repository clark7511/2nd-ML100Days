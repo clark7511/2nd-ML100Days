{
 "cells": [
  {
   "cell_type": "markdown",
   "metadata": {},
   "source": [
    "## Work\n",
    "1. 請嘗試將 preproc_x 替換成以每筆資料的 min/max 進行標準化至 -1 ~ 1 間，再進行訓練\n",
    "2. 請嘗試將 mlp 疊更深 (e.g 5~10 層)，進行訓練後觀察 learning curve 的走勢\n",
    "3. (optional) 請改用 GPU 進行訓練 (如果你有 GPU 的話)，比較使用 CPU 與 GPU 的訓練速度"
   ]
  },
  {
   "cell_type": "code",
   "execution_count": 10,
   "metadata": {},
   "outputs": [
    {
     "data": {
      "text/plain": [
       "'\\nYour code here (optional)\\n確認硬體資源\\n'"
      ]
     },
     "execution_count": 10,
     "metadata": {},
     "output_type": "execute_result"
    }
   ],
   "source": [
    "## \n",
    "\"\"\"\n",
    "Your code here (optional)\n",
    "確認硬體資源\n",
    "\"\"\"\n"
   ]
  },
  {
   "cell_type": "code",
   "execution_count": 11,
   "metadata": {},
   "outputs": [],
   "source": [
    "import os\n",
    "import keras\n",
    "\n",
    "# 請嘗試設定 GPU：os.environ\n",
    "os.environ[\"CUDA_VISIBLE_DEVICES\"] = \"0\"\n"
   ]
  },
  {
   "cell_type": "code",
   "execution_count": 12,
   "metadata": {},
   "outputs": [],
   "source": [
    "train, test = keras.datasets.cifar10.load_data()"
   ]
  },
  {
   "cell_type": "code",
   "execution_count": 13,
   "metadata": {},
   "outputs": [],
   "source": [
    "## 資料前處理\n",
    "\"\"\"\n",
    "Your code here\n",
    "\"\"\"\n",
    "def preproc_x(x, flatten=True):\n",
    "    a = x.min()\n",
    "    b = x.max()\n",
    "    x = (x - a)/(b - a) \n",
    "    if flatten:\n",
    "        x = x.reshape((len(x), -1))\n",
    "    return x\n",
    "\n",
    "def preproc_y(y, num_classes=10):\n",
    "    if y.shape[-1] == 1:\n",
    "        y = keras.utils.to_categorical(y, num_classes)\n",
    "    return y    "
   ]
  },
  {
   "cell_type": "code",
   "execution_count": 14,
   "metadata": {},
   "outputs": [],
   "source": [
    "x_train, y_train = train\n",
    "x_test, y_test = test\n",
    "\n",
    "# Preproc the inputs\n",
    "x_train = preproc_x(x_train)\n",
    "x_test = preproc_x(x_test)\n",
    "\n",
    "# Preprc the outputs\n",
    "y_train = preproc_y(y_train)\n",
    "y_test = preproc_y(y_test)"
   ]
  },
  {
   "cell_type": "code",
   "execution_count": 15,
   "metadata": {},
   "outputs": [
    {
     "name": "stdout",
     "output_type": "stream",
     "text": [
      "_________________________________________________________________\n",
      "Layer (type)                 Output Shape              Param #   \n",
      "=================================================================\n",
      "input_3 (InputLayer)         (None, 3072)              0         \n",
      "_________________________________________________________________\n",
      "hidden_layer1 (Dense)        (None, 512)               1573376   \n",
      "_________________________________________________________________\n",
      "hidden_layer2 (Dense)        (None, 256)               131328    \n",
      "_________________________________________________________________\n",
      "hidden_layer3 (Dense)        (None, 128)               32896     \n",
      "_________________________________________________________________\n",
      "hidden_layer4 (Dense)        (None, 64)                8256      \n",
      "_________________________________________________________________\n",
      "hidden_layer5 (Dense)        (None, 32)                2080      \n",
      "_________________________________________________________________\n",
      "output (Dense)               (None, 10)                330       \n",
      "=================================================================\n",
      "Total params: 1,748,266\n",
      "Trainable params: 1,748,266\n",
      "Non-trainable params: 0\n",
      "_________________________________________________________________\n"
     ]
    }
   ],
   "source": [
    "\"\"\"Code Here\n",
    "建立你的神經網路\n",
    "\"\"\"\n",
    "def build_mlp(input_shape, output_units=10, num_neurons=[512, 256, 128, 64, 32]):\n",
    "    input_layer = keras.layers.Input(input_shape)\n",
    "    \n",
    "    for i, n_units in enumerate(num_neurons):\n",
    "        if i == 0:\n",
    "            x = keras.layers.Dense(units=n_units, activation=\"relu\", name=\"hidden_layer\"+str(i+1))(input_layer)\n",
    "        else:\n",
    "            x = keras.layers.Dense(units=n_units, activation=\"relu\", name=\"hidden_layer\"+str(i+1))(x)\n",
    "    \n",
    "    out = keras.layers.Dense(units=output_units, activation=\"softmax\", name=\"output\")(x)\n",
    "    \n",
    "    model = keras.models.Model(inputs=[input_layer], outputs=[out])\n",
    "    return model\n",
    "model = build_mlp(input_shape=x_train.shape[1:])\n",
    "model.summary()"
   ]
  },
  {
   "cell_type": "code",
   "execution_count": 16,
   "metadata": {},
   "outputs": [],
   "source": [
    "## 超參數設定\n",
    "LEARNING_RATE = 0.001\n",
    "EPOCHS = 100\n",
    "BATCH_SIZE = 256"
   ]
  },
  {
   "cell_type": "code",
   "execution_count": 17,
   "metadata": {},
   "outputs": [],
   "source": [
    "optimizer = keras.optimizers.Adam(lr=LEARNING_RATE)\n",
    "model.compile(loss=\"categorical_crossentropy\", metrics=[\"accuracy\"], optimizer=optimizer)"
   ]
  },
  {
   "cell_type": "code",
   "execution_count": 20,
   "metadata": {},
   "outputs": [
    {
     "name": "stdout",
     "output_type": "stream",
     "text": [
      "Train on 50000 samples, validate on 10000 samples\n",
      "Epoch 1/100\n",
      "50000/50000 [==============================] - 6s 118us/step - loss: 0.3630 - acc: 0.8692 - val_loss: 2.9727 - val_acc: 0.5003\n",
      "Epoch 2/100\n",
      "50000/50000 [==============================] - 6s 118us/step - loss: 0.3297 - acc: 0.8803 - val_loss: 2.8960 - val_acc: 0.4991\n",
      "Epoch 3/100\n",
      "50000/50000 [==============================] - 6s 118us/step - loss: 0.3500 - acc: 0.8739 - val_loss: 2.9301 - val_acc: 0.4998\n",
      "Epoch 4/100\n",
      "50000/50000 [==============================] - 6s 118us/step - loss: 0.3108 - acc: 0.8898 - val_loss: 2.9759 - val_acc: 0.5024\n",
      "Epoch 5/100\n",
      "50000/50000 [==============================] - 6s 118us/step - loss: 0.3183 - acc: 0.8859 - val_loss: 2.9800 - val_acc: 0.4984\n",
      "Epoch 6/100\n",
      "50000/50000 [==============================] - 6s 119us/step - loss: 0.2872 - acc: 0.8980 - val_loss: 3.0142 - val_acc: 0.4966\n",
      "Epoch 7/100\n",
      "50000/50000 [==============================] - 6s 119us/step - loss: 0.3348 - acc: 0.8798 - val_loss: 3.0867 - val_acc: 0.4996\n",
      "Epoch 8/100\n",
      "50000/50000 [==============================] - 6s 119us/step - loss: 0.3287 - acc: 0.8828 - val_loss: 3.0665 - val_acc: 0.4938\n",
      "Epoch 9/100\n",
      "50000/50000 [==============================] - 6s 127us/step - loss: 0.3250 - acc: 0.8833 - val_loss: 3.1010 - val_acc: 0.4902\n",
      "Epoch 10/100\n",
      "50000/50000 [==============================] - 6s 126us/step - loss: 0.3115 - acc: 0.8888 - val_loss: 3.1093 - val_acc: 0.4963\n",
      "Epoch 11/100\n",
      "50000/50000 [==============================] - 7s 132us/step - loss: 0.2998 - acc: 0.8920 - val_loss: 3.1905 - val_acc: 0.5004\n",
      "Epoch 12/100\n",
      "50000/50000 [==============================] - 6s 112us/step - loss: 0.2956 - acc: 0.8932 - val_loss: 3.0664 - val_acc: 0.4975\n",
      "Epoch 13/100\n",
      "50000/50000 [==============================] - 6s 112us/step - loss: 0.3266 - acc: 0.8835 - val_loss: 3.1098 - val_acc: 0.4988\n",
      "Epoch 14/100\n",
      "50000/50000 [==============================] - 6s 112us/step - loss: 0.2763 - acc: 0.9007 - val_loss: 3.1206 - val_acc: 0.4903\n",
      "Epoch 15/100\n",
      "50000/50000 [==============================] - 6s 112us/step - loss: 0.3062 - acc: 0.8910 - val_loss: 3.1471 - val_acc: 0.5012\n",
      "Epoch 16/100\n",
      "50000/50000 [==============================] - 6s 112us/step - loss: 0.2871 - acc: 0.8972 - val_loss: 3.2365 - val_acc: 0.5001\n",
      "Epoch 17/100\n",
      "50000/50000 [==============================] - 6s 112us/step - loss: 0.3006 - acc: 0.8933 - val_loss: 3.1660 - val_acc: 0.4980\n",
      "Epoch 18/100\n",
      "50000/50000 [==============================] - 6s 112us/step - loss: 0.2805 - acc: 0.9010 - val_loss: 3.2961 - val_acc: 0.4917\n",
      "Epoch 19/100\n",
      "50000/50000 [==============================] - 6s 112us/step - loss: 0.2786 - acc: 0.9012 - val_loss: 3.1885 - val_acc: 0.4932\n",
      "Epoch 20/100\n",
      "50000/50000 [==============================] - 6s 112us/step - loss: 0.3276 - acc: 0.8833 - val_loss: 3.1188 - val_acc: 0.5018\n",
      "Epoch 21/100\n",
      "50000/50000 [==============================] - 6s 124us/step - loss: 0.2639 - acc: 0.9044 - val_loss: 3.2238 - val_acc: 0.4954\n",
      "Epoch 22/100\n",
      "50000/50000 [==============================] - 6s 115us/step - loss: 0.2502 - acc: 0.9108 - val_loss: 3.3410 - val_acc: 0.5061\n",
      "Epoch 23/100\n",
      "50000/50000 [==============================] - 6s 126us/step - loss: 0.2668 - acc: 0.9054 - val_loss: 3.3649 - val_acc: 0.4921\n",
      "Epoch 24/100\n",
      "50000/50000 [==============================] - 6s 124us/step - loss: 0.2841 - acc: 0.8979 - val_loss: 3.2425 - val_acc: 0.5027\n",
      "Epoch 25/100\n",
      "50000/50000 [==============================] - 6s 122us/step - loss: 0.2827 - acc: 0.8996 - val_loss: 3.2228 - val_acc: 0.4942\n",
      "Epoch 26/100\n",
      "50000/50000 [==============================] - 6s 119us/step - loss: 0.2762 - acc: 0.9000 - val_loss: 3.3046 - val_acc: 0.4994\n",
      "Epoch 27/100\n",
      "50000/50000 [==============================] - 6s 119us/step - loss: 0.2524 - acc: 0.9091 - val_loss: 3.3840 - val_acc: 0.4989\n",
      "Epoch 28/100\n",
      "50000/50000 [==============================] - 6s 119us/step - loss: 0.2616 - acc: 0.9082 - val_loss: 3.4053 - val_acc: 0.4952\n",
      "Epoch 29/100\n",
      "50000/50000 [==============================] - 6s 120us/step - loss: 0.2771 - acc: 0.9015 - val_loss: 3.3317 - val_acc: 0.4990\n",
      "Epoch 30/100\n",
      "50000/50000 [==============================] - 6s 119us/step - loss: 0.2906 - acc: 0.8980 - val_loss: 3.3254 - val_acc: 0.4996\n",
      "Epoch 31/100\n",
      "50000/50000 [==============================] - 6s 119us/step - loss: 0.2597 - acc: 0.9059 - val_loss: 3.4195 - val_acc: 0.5016\n",
      "Epoch 32/100\n",
      "50000/50000 [==============================] - 6s 120us/step - loss: 0.2321 - acc: 0.9170 - val_loss: 3.4989 - val_acc: 0.4987\n",
      "Epoch 33/100\n",
      "50000/50000 [==============================] - 6s 120us/step - loss: 0.2626 - acc: 0.9070 - val_loss: 3.4383 - val_acc: 0.4909\n",
      "Epoch 34/100\n",
      "50000/50000 [==============================] - 6s 120us/step - loss: 0.2559 - acc: 0.9087 - val_loss: 3.3101 - val_acc: 0.4991\n",
      "Epoch 35/100\n",
      "50000/50000 [==============================] - 6s 119us/step - loss: 0.2348 - acc: 0.9166 - val_loss: 3.4028 - val_acc: 0.4972\n",
      "Epoch 36/100\n",
      "50000/50000 [==============================] - 6s 119us/step - loss: 0.2572 - acc: 0.9090 - val_loss: 3.4570 - val_acc: 0.5053\n",
      "Epoch 37/100\n",
      "50000/50000 [==============================] - 6s 119us/step - loss: 0.2541 - acc: 0.9098 - val_loss: 3.4149 - val_acc: 0.5037\n",
      "Epoch 38/100\n",
      "50000/50000 [==============================] - 6s 122us/step - loss: 0.2853 - acc: 0.8996 - val_loss: 3.4331 - val_acc: 0.4863\n",
      "Epoch 39/100\n",
      "50000/50000 [==============================] - 6s 129us/step - loss: 0.2343 - acc: 0.9160 - val_loss: 3.5356 - val_acc: 0.4899\n",
      "Epoch 40/100\n",
      "50000/50000 [==============================] - 6s 124us/step - loss: 0.2047 - acc: 0.9269 - val_loss: 3.4900 - val_acc: 0.4993\n",
      "Epoch 41/100\n",
      "50000/50000 [==============================] - 7s 132us/step - loss: 0.2224 - acc: 0.9203 - val_loss: 3.5505 - val_acc: 0.5014\n",
      "Epoch 42/100\n",
      "50000/50000 [==============================] - 7s 147us/step - loss: 0.2140 - acc: 0.9239 - val_loss: 3.5526 - val_acc: 0.5025\n",
      "Epoch 43/100\n",
      "50000/50000 [==============================] - 6s 118us/step - loss: 0.2958 - acc: 0.8955 - val_loss: 3.4069 - val_acc: 0.4943\n",
      "Epoch 44/100\n",
      "50000/50000 [==============================] - 6s 112us/step - loss: 0.2697 - acc: 0.9045 - val_loss: 3.4268 - val_acc: 0.5001\n",
      "Epoch 45/100\n",
      "50000/50000 [==============================] - 6s 115us/step - loss: 0.2245 - acc: 0.9208 - val_loss: 3.7174 - val_acc: 0.4986\n",
      "Epoch 46/100\n",
      "50000/50000 [==============================] - 6s 114us/step - loss: 0.2301 - acc: 0.9185 - val_loss: 3.6562 - val_acc: 0.5035\n",
      "Epoch 47/100\n",
      "50000/50000 [==============================] - 6s 115us/step - loss: 0.2193 - acc: 0.9219 - val_loss: 3.5394 - val_acc: 0.4970\n",
      "Epoch 48/100\n",
      "50000/50000 [==============================] - 6s 114us/step - loss: 0.1977 - acc: 0.9297 - val_loss: 3.6934 - val_acc: 0.4959\n",
      "Epoch 49/100\n",
      "50000/50000 [==============================] - 6s 119us/step - loss: 0.2501 - acc: 0.9123 - val_loss: 3.5404 - val_acc: 0.4934\n",
      "Epoch 50/100\n",
      "50000/50000 [==============================] - 6s 127us/step - loss: 0.2523 - acc: 0.9119 - val_loss: 3.6679 - val_acc: 0.4877\n",
      "Epoch 51/100\n",
      "50000/50000 [==============================] - 7s 133us/step - loss: 0.2337 - acc: 0.9159 - val_loss: 3.6440 - val_acc: 0.4962\n",
      "Epoch 52/100\n",
      "50000/50000 [==============================] - 6s 124us/step - loss: 0.2259 - acc: 0.9193 - val_loss: 3.5909 - val_acc: 0.5018\n",
      "Epoch 53/100\n",
      "50000/50000 [==============================] - 6s 114us/step - loss: 0.2389 - acc: 0.9153 - val_loss: 3.5810 - val_acc: 0.4972\n",
      "Epoch 54/100\n",
      "50000/50000 [==============================] - 6s 112us/step - loss: 0.2078 - acc: 0.9254 - val_loss: 3.6740 - val_acc: 0.4967\n",
      "Epoch 55/100\n",
      "50000/50000 [==============================] - 6s 113us/step - loss: 0.2192 - acc: 0.9237 - val_loss: 3.7069 - val_acc: 0.4939\n",
      "Epoch 56/100\n",
      "50000/50000 [==============================] - 6s 112us/step - loss: 0.2440 - acc: 0.9139 - val_loss: 3.7216 - val_acc: 0.4878\n",
      "Epoch 57/100\n",
      "50000/50000 [==============================] - 6s 112us/step - loss: 0.2130 - acc: 0.9243 - val_loss: 3.7625 - val_acc: 0.4970\n",
      "Epoch 58/100\n",
      "50000/50000 [==============================] - 6s 112us/step - loss: 0.2419 - acc: 0.9152 - val_loss: 3.6739 - val_acc: 0.4967\n",
      "Epoch 59/100\n"
     ]
    },
    {
     "name": "stdout",
     "output_type": "stream",
     "text": [
      "50000/50000 [==============================] - 6s 112us/step - loss: 0.2153 - acc: 0.9231 - val_loss: 3.6539 - val_acc: 0.5009\n",
      "Epoch 60/100\n",
      "50000/50000 [==============================] - 6s 112us/step - loss: 0.1869 - acc: 0.9332 - val_loss: 3.7103 - val_acc: 0.4978\n",
      "Epoch 61/100\n",
      "50000/50000 [==============================] - 6s 112us/step - loss: 0.2332 - acc: 0.9184 - val_loss: 3.8108 - val_acc: 0.4940\n",
      "Epoch 62/100\n",
      "50000/50000 [==============================] - 6s 112us/step - loss: 0.1979 - acc: 0.9296 - val_loss: 3.8300 - val_acc: 0.4922\n",
      "Epoch 63/100\n",
      "50000/50000 [==============================] - 6s 112us/step - loss: 0.1774 - acc: 0.9378 - val_loss: 3.7303 - val_acc: 0.4905\n",
      "Epoch 64/100\n",
      "50000/50000 [==============================] - 6s 111us/step - loss: 0.1979 - acc: 0.9296 - val_loss: 3.8409 - val_acc: 0.4901\n",
      "Epoch 65/100\n",
      "50000/50000 [==============================] - 6s 111us/step - loss: 0.2373 - acc: 0.9157 - val_loss: 3.8096 - val_acc: 0.5004\n",
      "Epoch 66/100\n",
      "50000/50000 [==============================] - 6s 111us/step - loss: 0.2181 - acc: 0.9228 - val_loss: 3.7778 - val_acc: 0.4928\n",
      "Epoch 67/100\n",
      "50000/50000 [==============================] - 6s 111us/step - loss: 0.2132 - acc: 0.9257 - val_loss: 3.8308 - val_acc: 0.4996\n",
      "Epoch 68/100\n",
      "50000/50000 [==============================] - 6s 112us/step - loss: 0.1987 - acc: 0.9290 - val_loss: 3.7674 - val_acc: 0.4972\n",
      "Epoch 69/100\n",
      "50000/50000 [==============================] - 6s 112us/step - loss: 0.2060 - acc: 0.9280 - val_loss: 3.7197 - val_acc: 0.4929\n",
      "Epoch 70/100\n",
      "50000/50000 [==============================] - 6s 112us/step - loss: 0.2052 - acc: 0.9268 - val_loss: 3.8709 - val_acc: 0.4936\n",
      "Epoch 71/100\n",
      "50000/50000 [==============================] - 6s 112us/step - loss: 0.2098 - acc: 0.9266 - val_loss: 3.8622 - val_acc: 0.4858\n",
      "Epoch 72/100\n",
      "50000/50000 [==============================] - 6s 111us/step - loss: 0.1932 - acc: 0.9317 - val_loss: 3.8774 - val_acc: 0.4964\n",
      "Epoch 73/100\n",
      "50000/50000 [==============================] - 6s 112us/step - loss: 0.1831 - acc: 0.9359 - val_loss: 3.8978 - val_acc: 0.4926\n",
      "Epoch 74/100\n",
      "50000/50000 [==============================] - 6s 113us/step - loss: 0.2281 - acc: 0.9198 - val_loss: 3.7776 - val_acc: 0.4974\n",
      "Epoch 75/100\n",
      "50000/50000 [==============================] - 6s 112us/step - loss: 0.1505 - acc: 0.9469 - val_loss: 3.9737 - val_acc: 0.4937\n",
      "Epoch 76/100\n",
      "50000/50000 [==============================] - 6s 112us/step - loss: 0.2155 - acc: 0.9244 - val_loss: 3.8065 - val_acc: 0.4941\n",
      "Epoch 77/100\n",
      "50000/50000 [==============================] - 6s 112us/step - loss: 0.1859 - acc: 0.9351 - val_loss: 3.9119 - val_acc: 0.4889\n",
      "Epoch 78/100\n",
      "50000/50000 [==============================] - 6s 112us/step - loss: 0.1962 - acc: 0.9311 - val_loss: 3.8463 - val_acc: 0.4896\n",
      "Epoch 79/100\n",
      "50000/50000 [==============================] - 6s 112us/step - loss: 0.2560 - acc: 0.9119 - val_loss: 3.9031 - val_acc: 0.4811\n",
      "Epoch 80/100\n",
      "50000/50000 [==============================] - 6s 111us/step - loss: 0.1815 - acc: 0.9369 - val_loss: 3.8952 - val_acc: 0.4980\n",
      "Epoch 81/100\n",
      "50000/50000 [==============================] - 6s 112us/step - loss: 0.1488 - acc: 0.9486 - val_loss: 4.0086 - val_acc: 0.4934\n",
      "Epoch 82/100\n",
      "50000/50000 [==============================] - 6s 112us/step - loss: 0.1708 - acc: 0.9406 - val_loss: 3.9257 - val_acc: 0.4996\n",
      "Epoch 83/100\n",
      "50000/50000 [==============================] - 6s 112us/step - loss: 0.1778 - acc: 0.9373 - val_loss: 3.9721 - val_acc: 0.4960\n",
      "Epoch 84/100\n",
      "50000/50000 [==============================] - 6s 112us/step - loss: 0.2057 - acc: 0.9272 - val_loss: 4.0055 - val_acc: 0.4918\n",
      "Epoch 85/100\n",
      "50000/50000 [==============================] - 6s 112us/step - loss: 0.1962 - acc: 0.9310 - val_loss: 3.8935 - val_acc: 0.4925\n",
      "Epoch 86/100\n",
      "50000/50000 [==============================] - 6s 112us/step - loss: 0.2076 - acc: 0.9270 - val_loss: 3.9821 - val_acc: 0.4880\n",
      "Epoch 87/100\n",
      "50000/50000 [==============================] - 6s 112us/step - loss: 0.2146 - acc: 0.9244 - val_loss: 3.9142 - val_acc: 0.4956\n",
      "Epoch 88/100\n",
      "50000/50000 [==============================] - 6s 112us/step - loss: 0.1448 - acc: 0.9491 - val_loss: 3.9090 - val_acc: 0.4997\n",
      "Epoch 89/100\n",
      "50000/50000 [==============================] - 6s 112us/step - loss: 0.1375 - acc: 0.9514 - val_loss: 3.9698 - val_acc: 0.4987\n",
      "Epoch 90/100\n",
      "50000/50000 [==============================] - 6s 112us/step - loss: 0.2114 - acc: 0.9261 - val_loss: 4.0049 - val_acc: 0.4949\n",
      "Epoch 91/100\n",
      "50000/50000 [==============================] - 6s 112us/step - loss: 0.2181 - acc: 0.9247 - val_loss: 3.9503 - val_acc: 0.4923\n",
      "Epoch 92/100\n",
      "50000/50000 [==============================] - 6s 111us/step - loss: 0.1844 - acc: 0.9349 - val_loss: 4.0706 - val_acc: 0.4922\n",
      "Epoch 93/100\n",
      "50000/50000 [==============================] - 6s 112us/step - loss: 0.1603 - acc: 0.9432 - val_loss: 3.9245 - val_acc: 0.4981\n",
      "Epoch 94/100\n",
      "50000/50000 [==============================] - 6s 113us/step - loss: 0.1447 - acc: 0.9493 - val_loss: 3.9858 - val_acc: 0.4989\n",
      "Epoch 95/100\n",
      "50000/50000 [==============================] - 6s 112us/step - loss: 0.1774 - acc: 0.9384 - val_loss: 4.1149 - val_acc: 0.4978\n",
      "Epoch 96/100\n",
      "50000/50000 [==============================] - 6s 111us/step - loss: 0.1837 - acc: 0.9360 - val_loss: 3.9157 - val_acc: 0.4934\n",
      "Epoch 97/100\n",
      "50000/50000 [==============================] - 6s 111us/step - loss: 0.1954 - acc: 0.9320 - val_loss: 4.0135 - val_acc: 0.4921\n",
      "Epoch 98/100\n",
      "50000/50000 [==============================] - 6s 112us/step - loss: 0.1427 - acc: 0.9505 - val_loss: 4.1500 - val_acc: 0.4941\n",
      "Epoch 99/100\n",
      "50000/50000 [==============================] - 6s 112us/step - loss: 0.2139 - acc: 0.9267 - val_loss: 4.0041 - val_acc: 0.5000\n",
      "Epoch 100/100\n",
      "50000/50000 [==============================] - 6s 112us/step - loss: 0.1485 - acc: 0.9482 - val_loss: 4.1614 - val_acc: 0.4938\n"
     ]
    },
    {
     "data": {
      "image/png": "[encoded data removed]",
      "text/plain": [
       "<Figure size 432x288 with 1 Axes>"
      ]
     },
     "metadata": {
      "needs_background": "light"
     },
     "output_type": "display_data"
    },
    {
     "data": {
      "image/png": "[encoded data removed]",
      "text/plain": [
       "<Figure size 432x288 with 1 Axes>"
      ]
     },
     "metadata": {
      "needs_background": "light"
     },
     "output_type": "display_data"
    }
   ],
   "source": [
    "model.fit(x_train, y_train, \n",
    "          epochs=EPOCHS, \n",
    "          batch_size=BATCH_SIZE, \n",
    "          validation_data=(x_test, y_test), \n",
    "          shuffle=True)\n",
    "\n",
    "import matplotlib.pyplot as plt\n",
    "\n",
    "\n",
    "train_loss = model.history.history[\"loss\"]\n",
    "valid_loss = model.history.history[\"val_loss\"]\n",
    "\n",
    "train_acc = model.history.history[\"acc\"]\n",
    "valid_acc = model.history.history[\"val_acc\"]\n",
    "\n",
    "plt.plot(range(len(train_loss)), train_loss, label=\"train loss\")\n",
    "plt.plot(range(len(valid_loss)), valid_loss, label=\"valid loss\")\n",
    "plt.legend()\n",
    "plt.title(\"Loss\")\n",
    "plt.show()\n",
    "\n",
    "plt.plot(range(len(train_acc)), train_acc, label=\"train accuracy\")\n",
    "plt.plot(range(len(valid_acc)), valid_acc, label=\"valid accuracy\")\n",
    "plt.legend()\n",
    "plt.title(\"Accuracy\")\n",
    "plt.show()"
   ]
  },
  {
   "cell_type": "code",
   "execution_count": null,
   "metadata": {},
   "outputs": [],
   "source": []
  }
 ],
 "metadata": {
  "kernelspec": {
   "display_name": "Python 3",
   "language": "python",
   "name": "python3"
  },
  "language_info": {
   "codemirror_mode": {
    "name": "ipython",
    "version": 3
   },
   "file_extension": ".py",
   "mimetype": "text/x-python",
   "name": "python",
   "nbconvert_exporter": "python",
   "pygments_lexer": "ipython3",
   "version": "3.7.3"
  }
 },
 "nbformat": 4,
 "nbformat_minor": 2
}
