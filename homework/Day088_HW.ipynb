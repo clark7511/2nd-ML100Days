{
 "cells": [
  {
   "cell_type": "markdown",
   "metadata": {},
   "source": [
    "## Work\n",
    "1. 請嘗試寫一個 callback 用來記錄各類別在訓練過程中，對驗證集的 True Positive 與 True Negative"
   ]
  },
  {
   "cell_type": "code",
   "execution_count": 45,
   "metadata": {},
   "outputs": [],
   "source": [
    "import os\n",
    "import keras\n",
    "\n",
    "# Disable GPU\n",
    "os.environ[\"CUDA_VISIBLE_DEVICES\"] = \"\""
   ]
  },
  {
   "cell_type": "code",
   "execution_count": 46,
   "metadata": {},
   "outputs": [],
   "source": [
    "train, test = keras.datasets.cifar10.load_data()"
   ]
  },
  {
   "cell_type": "code",
   "execution_count": 47,
   "metadata": {},
   "outputs": [],
   "source": [
    "## 資料前處理\n",
    "def preproc_x(x, flatten=True):\n",
    "    x = x / 255.\n",
    "    if flatten:\n",
    "        x = x.reshape((len(x), -1))\n",
    "    return x\n",
    "\n",
    "def preproc_y(y, num_classes=10):\n",
    "    if y.shape[-1] == 1:\n",
    "        y = keras.utils.to_categorical(y, num_classes)\n",
    "    return y    "
   ]
  },
  {
   "cell_type": "code",
   "execution_count": 48,
   "metadata": {},
   "outputs": [],
   "source": [
    "x_train, y_train = train\n",
    "x_test, y_test = test\n",
    "\n",
    "# Preproc the inputs\n",
    "x_train = preproc_x(x_train)\n",
    "x_test = preproc_x(x_test)\n",
    "\n",
    "# Preprc the outputs\n",
    "y_train = preproc_y(y_train)\n",
    "y_test = preproc_y(y_test)"
   ]
  },
  {
   "cell_type": "code",
   "execution_count": 49,
   "metadata": {},
   "outputs": [],
   "source": [
    "from keras.layers import BatchNormalization\n",
    "def build_mlp(input_shape, output_units=10, num_neurons=[256, 256, 256]):\n",
    "    input_layer = keras.layers.Input(input_shape)\n",
    "    \n",
    "    for i, n_units in enumerate(num_neurons):\n",
    "        if i == 0:\n",
    "            x = keras.layers.Dense(units=n_units, \n",
    "                                   activation=\"relu\", \n",
    "                                   name=\"hidden_layer\"+str(i+1))(input_layer)\n",
    "            x = BatchNormalization()(x)\n",
    "        else:\n",
    "            x = keras.layers.Dense(units=n_units, \n",
    "                                   activation=\"relu\", \n",
    "                                   name=\"hidden_layer\"+str(i+1))(x)\n",
    "            x = BatchNormalization()(x)\n",
    "    \n",
    "    out = keras.layers.Dense(units=output_units, activation=\"softmax\", name=\"output\")(x)\n",
    "    \n",
    "    model = keras.models.Model(inputs=[input_layer], outputs=[out])\n",
    "    return model"
   ]
  },
  {
   "cell_type": "code",
   "execution_count": 55,
   "metadata": {},
   "outputs": [],
   "source": [
    "## 超參數設定\n",
    "LEARNING_RATE = 1e-3\n",
    "EPOCHS = 25\n",
    "BATCH_SIZE = 1024\n",
    "MOMENTUM = 0.95"
   ]
  },
  {
   "cell_type": "code",
   "execution_count": 56,
   "metadata": {},
   "outputs": [],
   "source": [
    "# 載入 Callbacks\n",
    "from keras.callbacks import Callback\n",
    "import numpy as np\n",
    "# Record_fp_tp\n",
    "class Record_tp_tn(Callback):\n",
    "    \"\"\"Code Here\n",
    "    撰寫一個紀錄 ture positive 與 true negative 數量的 callbacks    \n",
    "    \"\"\"\n",
    "    def on_epoch_end(self, epoch, logs = {}, thres=0.5):\n",
    "        logs = logs or {}\n",
    "        y_true = self.validation_data[1].argmax(axis = 1)\n",
    "        y_pred = self.model.predict(self.validation_data[0])\n",
    "        y_pred = (y_pred[:, 1] >= thres) * 1\n",
    "        logs[\"valid_tp\"] = np.sum(np.logical_and(y_pred == 1, y_true == 1))\n",
    "        logs[\"valid_tn\"] = np.sum(np.logical_and(y_pred == 0, y_true == 0))       \n",
    "rec_tptn = Record_tp_tn()"
   ]
  },
  {
   "cell_type": "code",
   "execution_count": 57,
   "metadata": {
    "scrolled": true
   },
   "outputs": [
    {
     "name": "stdout",
     "output_type": "stream",
     "text": [
      "_________________________________________________________________\n",
      "Layer (type)                 Output Shape              Param #   \n",
      "=================================================================\n",
      "input_9 (InputLayer)         (None, 3072)              0         \n",
      "_________________________________________________________________\n",
      "hidden_layer1 (Dense)        (None, 256)               786688    \n",
      "_________________________________________________________________\n",
      "batch_normalization_25 (Batc (None, 256)               1024      \n",
      "_________________________________________________________________\n",
      "hidden_layer2 (Dense)        (None, 256)               65792     \n",
      "_________________________________________________________________\n",
      "batch_normalization_26 (Batc (None, 256)               1024      \n",
      "_________________________________________________________________\n",
      "hidden_layer3 (Dense)        (None, 256)               65792     \n",
      "_________________________________________________________________\n",
      "batch_normalization_27 (Batc (None, 256)               1024      \n",
      "_________________________________________________________________\n",
      "output (Dense)               (None, 10)                2570      \n",
      "=================================================================\n",
      "Total params: 923,914\n",
      "Trainable params: 922,378\n",
      "Non-trainable params: 1,536\n",
      "_________________________________________________________________\n",
      "Train on 50000 samples, validate on 10000 samples\n",
      "Epoch 1/25\n",
      "50000/50000 [==============================] - 4s 71us/step - loss: 2.2262 - acc: 0.2631 - val_loss: 2.1659 - val_acc: 0.3113\n",
      "Epoch 2/25\n",
      "50000/50000 [==============================] - 2s 43us/step - loss: 1.7592 - acc: 0.3878 - val_loss: 1.8830 - val_acc: 0.3610\n",
      "Epoch 3/25\n",
      "50000/50000 [==============================] - 2s 44us/step - loss: 1.6328 - acc: 0.4278 - val_loss: 1.7080 - val_acc: 0.4055\n",
      "Epoch 4/25\n",
      "50000/50000 [==============================] - 2s 43us/step - loss: 1.5601 - acc: 0.4531 - val_loss: 1.6287 - val_acc: 0.4309\n",
      "Epoch 5/25\n",
      "50000/50000 [==============================] - 2s 43us/step - loss: 1.5080 - acc: 0.4719 - val_loss: 1.5981 - val_acc: 0.4376\n",
      "Epoch 6/25\n",
      "50000/50000 [==============================] - 2s 43us/step - loss: 1.4629 - acc: 0.4875 - val_loss: 1.5940 - val_acc: 0.4379\n",
      "Epoch 7/25\n",
      "50000/50000 [==============================] - 2s 44us/step - loss: 1.4272 - acc: 0.5003 - val_loss: 1.5585 - val_acc: 0.4547\n",
      "Epoch 8/25\n",
      "50000/50000 [==============================] - 2s 43us/step - loss: 1.3946 - acc: 0.5125 - val_loss: 1.5464 - val_acc: 0.4541\n",
      "Epoch 9/25\n",
      "50000/50000 [==============================] - 2s 43us/step - loss: 1.3647 - acc: 0.5231 - val_loss: 1.5293 - val_acc: 0.4583\n",
      "Epoch 10/25\n",
      "50000/50000 [==============================] - 2s 44us/step - loss: 1.3374 - acc: 0.5334 - val_loss: 1.5116 - val_acc: 0.4653\n",
      "Epoch 11/25\n",
      "50000/50000 [==============================] - 2s 44us/step - loss: 1.3113 - acc: 0.5416 - val_loss: 1.5099 - val_acc: 0.4681\n",
      "Epoch 12/25\n",
      "50000/50000 [==============================] - 2s 44us/step - loss: 1.2866 - acc: 0.5519 - val_loss: 1.4932 - val_acc: 0.4739\n",
      "Epoch 13/25\n",
      "50000/50000 [==============================] - 2s 44us/step - loss: 1.2636 - acc: 0.5569 - val_loss: 1.4858 - val_acc: 0.4729\n",
      "Epoch 14/25\n",
      "50000/50000 [==============================] - 2s 44us/step - loss: 1.2404 - acc: 0.5678 - val_loss: 1.4828 - val_acc: 0.4772\n",
      "Epoch 15/25\n",
      "50000/50000 [==============================] - 2s 44us/step - loss: 1.2220 - acc: 0.5738 - val_loss: 1.4718 - val_acc: 0.4790\n",
      "Epoch 16/25\n",
      "50000/50000 [==============================] - 2s 44us/step - loss: 1.2010 - acc: 0.5829 - val_loss: 1.4908 - val_acc: 0.4819\n",
      "Epoch 17/25\n",
      "50000/50000 [==============================] - 2s 44us/step - loss: 1.1822 - acc: 0.5895 - val_loss: 1.4757 - val_acc: 0.4801\n",
      "Epoch 18/25\n",
      "50000/50000 [==============================] - 2s 44us/step - loss: 1.1625 - acc: 0.5974 - val_loss: 1.4606 - val_acc: 0.4821\n",
      "Epoch 19/25\n",
      "50000/50000 [==============================] - 2s 45us/step - loss: 1.1435 - acc: 0.6061 - val_loss: 1.4610 - val_acc: 0.4874\n",
      "Epoch 20/25\n",
      "50000/50000 [==============================] - 2s 43us/step - loss: 1.1252 - acc: 0.6117 - val_loss: 1.4587 - val_acc: 0.4854\n",
      "Epoch 21/25\n",
      "50000/50000 [==============================] - 2s 43us/step - loss: 1.1071 - acc: 0.6191 - val_loss: 1.4492 - val_acc: 0.4903\n",
      "Epoch 22/25\n",
      "50000/50000 [==============================] - 2s 44us/step - loss: 1.0905 - acc: 0.6243 - val_loss: 1.4616 - val_acc: 0.4901\n",
      "Epoch 23/25\n",
      "50000/50000 [==============================] - 2s 44us/step - loss: 1.0732 - acc: 0.6300 - val_loss: 1.4649 - val_acc: 0.4889\n",
      "Epoch 24/25\n",
      "50000/50000 [==============================] - 2s 46us/step - loss: 1.0577 - acc: 0.6366 - val_loss: 1.4492 - val_acc: 0.4906\n",
      "Epoch 25/25\n",
      "50000/50000 [==============================] - 2s 45us/step - loss: 1.0388 - acc: 0.6450 - val_loss: 1.4595 - val_acc: 0.4911\n"
     ]
    }
   ],
   "source": [
    "model = build_mlp(input_shape=x_train.shape[1:])\n",
    "model.summary()\n",
    "optimizer = keras.optimizers.SGD(lr=LEARNING_RATE, nesterov=True, momentum=MOMENTUM)\n",
    "model.compile(loss=\"categorical_crossentropy\", metrics=[\"accuracy\"], optimizer=optimizer)\n",
    "\n",
    "\"\"\"Code Here\n",
    "將 callbacks 放入模型訓練流程中\n",
    "\"\"\"\n",
    "model.fit(x_train, y_train, \n",
    "          epochs=EPOCHS, \n",
    "          batch_size=BATCH_SIZE, \n",
    "          validation_data=(x_test, y_test), \n",
    "          shuffle=True,\n",
    "          callbacks=[rec_tptn]\n",
    "         )\n",
    "\n",
    "# Collect results\n",
    "train_loss = model.history.history[\"loss\"]\n",
    "valid_loss = model.history.history[\"val_loss\"]\n",
    "train_acc = model.history.history[\"acc\"]\n",
    "valid_acc = model.history.history[\"val_acc\"]\n",
    "\n",
    "\"\"\"Code Here\n",
    "將 tp/tn 從訓練完的模型中取出\n",
    "\"\"\"\n",
    "valid_tp = model.history.history['valid_tp']\n",
    "valid_tn = model.history.history['valid_tn']"
   ]
  },
  {
   "cell_type": "code",
   "execution_count": 58,
   "metadata": {},
   "outputs": [
    {
     "data": {
      "image/png": "[encoded data removed]",
      "text/plain": [
       "<Figure size 432x288 with 1 Axes>"
      ]
     },
     "metadata": {
      "needs_background": "light"
     },
     "output_type": "display_data"
    },
    {
     "data": {
      "image/png": "[encoded data removed]",
      "text/plain": [
       "<Figure size 432x288 with 1 Axes>"
      ]
     },
     "metadata": {
      "needs_background": "light"
     },
     "output_type": "display_data"
    },
    {
     "data": {
      "image/png": "[encoded data removed]",
      "text/plain": [
       "<Figure size 432x288 with 1 Axes>"
      ]
     },
     "metadata": {
      "needs_background": "light"
     },
     "output_type": "display_data"
    }
   ],
   "source": [
    "import matplotlib.pyplot as plt\n",
    "%matplotlib inline\n",
    "\n",
    "plt.plot(range(len(train_loss)), train_loss, label=\"train loss\")\n",
    "plt.plot(range(len(valid_loss)), valid_loss, label=\"valid loss\")\n",
    "plt.legend()\n",
    "plt.title(\"Loss\")\n",
    "plt.show()\n",
    "\n",
    "plt.plot(range(len(train_acc)), train_acc, label=\"train accuracy\")\n",
    "plt.plot(range(len(valid_acc)), valid_acc, label=\"valid accuracy\")\n",
    "plt.legend()\n",
    "plt.title(\"Accuracy\")\n",
    "plt.show()\n",
    "\n",
    "plt.plot(range(len(valid_tp)), valid_tp, label=\"valid tp\", color=\"navy\")\n",
    "plt.plot(range(len(valid_tn)), valid_tn, label=\"valid tn\", color=\"red\")\n",
    "plt.legend()\n",
    "plt.title(\"True positives and True Negatives\")\n",
    "plt.show()\n"
   ]
  },
  {
   "cell_type": "code",
   "execution_count": null,
   "metadata": {},
   "outputs": [],
   "source": []
  }
 ],
 "metadata": {
  "kernelspec": {
   "display_name": "Python 3",
   "language": "python",
   "name": "python3"
  },
  "language_info": {
   "codemirror_mode": {
    "name": "ipython",
    "version": 3
   },
   "file_extension": ".py",
   "mimetype": "text/x-python",
   "name": "python",
   "nbconvert_exporter": "python",
   "pygments_lexer": "ipython3",
   "version": "3.7.3"
  }
 },
 "nbformat": 4,
 "nbformat_minor": 2
}
